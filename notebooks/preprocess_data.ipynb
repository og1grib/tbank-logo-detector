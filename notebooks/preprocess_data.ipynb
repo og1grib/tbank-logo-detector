{
 "cells": [
  {
   "cell_type": "markdown",
   "id": "280d575c",
   "metadata": {},
   "source": [
    "# Предобработка изображений"
   ]
  },
  {
   "cell_type": "code",
   "execution_count": null,
   "id": "85b60bec",
   "metadata": {},
   "outputs": [],
   "source": [
    "import os\n",
    "import shutil\n",
    "\n",
    "import numpy as np\n",
    "import cv2\n",
    "import matplotlib.pyplot as plt\n",
    "import random\n",
    "from tqdm import tqdm\n",
    "\n",
    "import torch\n",
    "\n",
    "from groundingdino.util.inference import load_model, load_image, predict"
   ]
  },
  {
   "cell_type": "code",
   "execution_count": null,
   "id": "b021513d",
   "metadata": {},
   "outputs": [],
   "source": [
    "DEVICE = \"cuda\" if torch.cuda.is_available() else \"mps\" if torch.backends.mps.is_available() else \"cpu\"\n",
    "\n",
    "IMAGES_DIR = \"../data_sirius\"\n",
    "NEW_IMAGES_DIR = \"../data_processed\"\n",
    "\n",
    "# download config https://github.com/IDEA-Research/GroundingDINO/tree/main/groundingdino/config\n",
    "CONFIG_PATH = \"../notebooks/grounding_dino/GroundingDINO_SwinT_OGC.py\"\n",
    "\n",
    "# download weights https://huggingface.co/ShilongLiu/GroundingDINO/blob/main/groundingdino_swint_ogc.pth\n",
    "WEIGHTS_PATH = \"../notebooks/grounding_dino/groundingdino_swint_ogc.pth\" \n",
    "\n",
    "OUT_DIR = \"../data\""
   ]
  },
  {
   "cell_type": "markdown",
   "id": "d940a265",
   "metadata": {},
   "source": [
    "## Zero-shot Grounging DINO \n",
    "https://huggingface.co/ShilongLiu/GroundingDINO"
   ]
  },
  {
   "cell_type": "code",
   "execution_count": null,
   "id": "f06e6ba5",
   "metadata": {},
   "outputs": [],
   "source": [
    "# !pip install torch torchvision torchaudio\n",
    "# !pip install git+https://github.com/IDEA-Research/GroundingDINO.git\n",
    "# !pip install supervision opencv-python pillow matplotlib"
   ]
  },
  {
   "cell_type": "code",
   "execution_count": null,
   "id": "96690211",
   "metadata": {},
   "outputs": [],
   "source": [
    "PROMPT = \"bank logo with stylized T letter inside a shield emblem\"\n",
    "\n",
    "model = load_model(CONFIG_PATH, WEIGHTS_PATH, device=DEVICE)"
   ]
  },
  {
   "cell_type": "code",
   "execution_count": null,
   "id": "22d91fba",
   "metadata": {},
   "outputs": [],
   "source": [
    "def denormalize_boxes(boxes, W, H):\n",
    "    out = []\n",
    "    for (cx, cy, w, h) in boxes:\n",
    "        x1 = int((cx - w/2) * W)\n",
    "        y1 = int((cy - h/2) * H)\n",
    "        x2 = int((cx + w/2) * W)\n",
    "        y2 = int((cy + h/2) * H)\n",
    "        out.append([x1, y1, x2, y2])\n",
    "    return np.array(out)\n",
    "\n",
    "def show_boxes(img_path, boxes, logits, phrases):\n",
    "    img = cv2.cvtColor(cv2.imread(img_path), cv2.COLOR_BGR2RGB)\n",
    "    \n",
    "    for (x1, y1, x2, y2), score, phrase in zip(boxes.astype(int), logits, phrases):\n",
    "        cv2.rectangle(img, (x1, y1), (x2, y2), (0, 255, 0), 2)\n",
    "        cv2.putText(img, f\"{phrase} {score:.2f}\", (x1, max(0, y1 - 5)), cv2.FONT_HERSHEY_SIMPLEX, 0.5, (0,255, 0), 1)\n",
    "        \n",
    "    plt.figure(figsize=(8, 8))\n",
    "    plt.imshow(img)\n",
    "    plt.axis(\"off\")\n",
    "    plt.show()\n",
    "\n",
    "\n",
    "def save_yolo(label_path, boxes):\n",
    "    lines = []\n",
    "    for (cx, cy, w, h) in boxes:\n",
    "        lines.append(f\"0 {cx:.6f} {cy:.6f} {w:.6f} {h:.6f}\")\n",
    "    os.makedirs(os.path.dirname(label_path), exist_ok=True)\n",
    "    with open(label_path, \"w\") as f:\n",
    "        f.write(\"\\n\".join(lines))\n",
    "        \n",
    "        \n",
    "def process_image(img_path, model, promt, idx, box_thr=0.4, text_thr=0.25, device=\"cpu\"):\n",
    "    image_source, image = load_image(img_path)\n",
    "    H, W = image_source.shape[:2]\n",
    "    \n",
    "    boxes, logits, phrases = predict(\n",
    "        model=model,\n",
    "        image=image,\n",
    "        caption=promt,\n",
    "        box_threshold=box_thr,\n",
    "        text_threshold=text_thr,\n",
    "        device=device\n",
    "    )\n",
    "    \n",
    "    if not boxes.shape[0]:\n",
    "        neg_dir = f\"{OUT_DIR}/negative\"\n",
    "        new_name = f\"{idx:05d}.jpg\"\n",
    "        shutil.copy(img_path, os.path.join(neg_dir, new_name))\n",
    "        print(f\"[{os.path.basename(img_path)}] NEGATIVE → {new_name}\")\n",
    "        return None  \n",
    "    \n",
    "    new_img_name = f\"{idx:05d}.jpg\"\n",
    "    new_label_name = f\"{idx:05d}.txt\"\n",
    "    \n",
    "    img_out = os.path.join(f\"{OUT_DIR}/positive/images\", new_img_name)\n",
    "    label_out = os.path.join(f\"{OUT_DIR}/positive/labels\", new_label_name)\n",
    "    os.makedirs(os.path.dirname(img_out), exist_ok=True)\n",
    "    os.makedirs(os.path.dirname(label_out), exist_ok=True)\n",
    "    \n",
    "    shutil.copy(img_path, img_out)\n",
    "    save_yolo(label_out, boxes)\n",
    "    \n",
    "    pixel_boxes = denormalize_boxes(boxes, W, H)\n",
    "    # show_boxes(img_path, pixel_boxes, logits, phrases)\n",
    "    print(f\"[{os.path.basename(img_path)}] POSITIVE → {new_img_name}, {new_label_name}\")"
   ]
  },
  {
   "cell_type": "markdown",
   "id": "e67b4e3b",
   "metadata": {},
   "source": [
    "shield with letter T -> T bank -> T logo -> "
   ]
  },
  {
   "cell_type": "code",
   "execution_count": null,
   "id": "9d6fbaae",
   "metadata": {},
   "outputs": [],
   "source": [
    "all_images = [f for f in os.listdir(f'{NEW_IMAGES_DIR}/positive_t-bank') if f.lower().endswith((\".jpg\", \".jpeg\", \".png\"))]\n",
    "\n",
    "for idx, fname in enumerate(tqdm(all_images, desc=\"Processing images\"), start=1):\n",
    "    img_path = os.path.join(f'{NEW_IMAGES_DIR}/positive_t-bank', fname)\n",
    "    process_image(img_path, model, PROMPT, idx, device=DEVICE)"
   ]
  }
 ],
 "metadata": {
  "kernelspec": {
   "display_name": "3.11.9",
   "language": "python",
   "name": "python3"
  },
  "language_info": {
   "codemirror_mode": {
    "name": "ipython",
    "version": 3
   },
   "file_extension": ".py",
   "mimetype": "text/x-python",
   "name": "python",
   "nbconvert_exporter": "python",
   "pygments_lexer": "ipython3",
   "version": "3.11.9"
  }
 },
 "nbformat": 4,
 "nbformat_minor": 5
}
