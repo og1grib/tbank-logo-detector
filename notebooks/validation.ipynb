{
 "cells": [
  {
   "cell_type": "markdown",
   "id": "e6a0aeb5",
   "metadata": {},
   "source": [
    "# Проверка времени инференса"
   ]
  },
  {
   "cell_type": "code",
   "execution_count": 1,
   "id": "05ce6f04",
   "metadata": {},
   "outputs": [],
   "source": [
    "from ultralytics import YOLO"
   ]
  },
  {
   "cell_type": "code",
   "execution_count": 2,
   "id": "6eb3c08f",
   "metadata": {},
   "outputs": [],
   "source": [
    "model = YOLO(\"../weights/best.pt\")"
   ]
  },
  {
   "cell_type": "code",
   "execution_count": 3,
   "id": "57fe5fa3",
   "metadata": {},
   "outputs": [
    {
     "name": "stdout",
     "output_type": "stream",
     "text": [
      "Ultralytics 8.3.200 🚀 Python-3.11.9 torch-2.8.0 CPU (Apple M1 Pro)\n",
      "Model summary (fused): 92 layers, 25,840,339 parameters, 0 gradients, 78.7 GFLOPs\n",
      "\u001b[34m\u001b[1mval: \u001b[0mFast image access ✅ (ping: 0.0±0.0 ms, read: 96.1±23.8 MB/s, size: 36.2 KB)\n",
      "\u001b[K\u001b[34m\u001b[1mval: \u001b[0mScanning /Users/grigorii/Desktop/tbank-logo-detector/dataset/valid/labels... 353 images, 200 backgrounds, 0 corrupt: 100% ━━━━━━━━━━━━ 353/353 3.8Kit/s 0.1s\n",
      "\u001b[34m\u001b[1mval: \u001b[0mNew cache created: /Users/grigorii/Desktop/tbank-logo-detector/dataset/valid/labels.cache\n",
      "\u001b[K                 Class     Images  Instances      Box(P          R      mAP50  mAP50-95): 100% ━━━━━━━━━━━━ 23/23 0.1it/s 3:5310.7s\n",
      "                   all        353        177      0.966      0.983      0.991      0.896\n",
      "Speed: 1.0ms preprocess, 654.8ms inference, 0.0ms loss, 0.3ms postprocess per image\n",
      "Results saved to \u001b[1m/Users/grigorii/Desktop/tbank-logo-detector/notebooks/runs/detect/val3\u001b[0m\n"
     ]
    }
   ],
   "source": [
    "metrics = model.val(data=\"../dataset/data.yaml\")"
   ]
  },
  {
   "cell_type": "code",
   "execution_count": 4,
   "id": "7ebd7fb3",
   "metadata": {},
   "outputs": [
    {
     "name": "stdout",
     "output_type": "stream",
     "text": [
      "metrics/precision(B): 0.9658036259806388\n",
      "metrics/recall(B): 0.9830508474576272\n",
      "metrics/mAP50(B): 0.9909069198465004\n",
      "metrics/mAP50-95(B): 0.8964463975172359\n",
      "fitness: 0.8964463975172359\n"
     ]
    }
   ],
   "source": [
    "for metric, result in metrics.results_dict.items():\n",
    "    print(f\"{metric}: {result}\")"
   ]
  },
  {
   "cell_type": "code",
   "execution_count": null,
   "id": "5b09421e",
   "metadata": {},
   "outputs": [
    {
     "name": "stdout",
     "output_type": "stream",
     "text": [
      "\n",
      "image 1/1 /Users/grigorii/Desktop/tbank-logo-detector/notebooks/../dataset/valid/images/0a5331d71d7d709771bc5be68d5b351b_jpg.rf.88015c47af0a7c1ec13cb48c8fce867a.jpg: 640x640 5 0s, 176.7ms\n",
      "Speed: 1.3ms preprocess, 176.7ms inference, 0.6ms postprocess per image at shape (1, 3, 640, 640)\n"
     ]
    }
   ],
   "source": [
    "results = model.predict(\"../dataset/valid/images/0a5331d71d7d709771bc5be68d5b351b_jpg.rf.88015c47af0a7c1ec13cb48c8fce867a.jpg\")"
   ]
  }
 ],
 "metadata": {
  "kernelspec": {
   "display_name": "3.11.9",
   "language": "python",
   "name": "python3"
  },
  "language_info": {
   "codemirror_mode": {
    "name": "ipython",
    "version": 3
   },
   "file_extension": ".py",
   "mimetype": "text/x-python",
   "name": "python",
   "nbconvert_exporter": "python",
   "pygments_lexer": "ipython3",
   "version": "3.11.9"
  }
 },
 "nbformat": 4,
 "nbformat_minor": 5
}
